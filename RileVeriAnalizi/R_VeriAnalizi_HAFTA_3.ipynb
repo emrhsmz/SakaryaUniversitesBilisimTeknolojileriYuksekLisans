{
 "cells": [
  {
   "cell_type": "markdown",
   "metadata": {},
   "source": [
    "# R_VeriAnalizi_HAFTA_2"
   ]
  },
  {
   "cell_type": "code",
   "execution_count": 4,
   "metadata": {},
   "outputs": [],
   "source": [
    "#vektör oluşturmak için c() fonksiyonunu kullanıyoruz"
   ]
  },
  {
   "cell_type": "code",
   "execution_count": 5,
   "metadata": {},
   "outputs": [],
   "source": [
    "vektor=c(10,20,30,40,50)"
   ]
  },
  {
   "cell_type": "code",
   "execution_count": 7,
   "metadata": {},
   "outputs": [
    {
     "data": {
      "text/html": [
       "<ol class=list-inline>\n",
       "\t<li>10</li>\n",
       "\t<li>20</li>\n",
       "\t<li>30</li>\n",
       "\t<li>40</li>\n",
       "\t<li>50</li>\n",
       "</ol>\n"
      ],
      "text/latex": [
       "\\begin{enumerate*}\n",
       "\\item 10\n",
       "\\item 20\n",
       "\\item 30\n",
       "\\item 40\n",
       "\\item 50\n",
       "\\end{enumerate*}\n"
      ],
      "text/markdown": [
       "1. 10\n",
       "2. 20\n",
       "3. 30\n",
       "4. 40\n",
       "5. 50\n",
       "\n",
       "\n"
      ],
      "text/plain": [
       "[1] 10 20 30 40 50"
      ]
     },
     "metadata": {},
     "output_type": "display_data"
    }
   ],
   "source": [
    "vektor"
   ]
  },
  {
   "cell_type": "code",
   "execution_count": 8,
   "metadata": {},
   "outputs": [],
   "source": [
    "#Bir vektör başka bir vektör içerisinde veri olarak kullanılabilir"
   ]
  },
  {
   "cell_type": "code",
   "execution_count": 10,
   "metadata": {},
   "outputs": [],
   "source": [
    "vektor2=c(-1,-2,6,-9,7)"
   ]
  },
  {
   "cell_type": "code",
   "execution_count": 11,
   "metadata": {},
   "outputs": [],
   "source": [
    "vektor3=c(8,54,62,vektor2)"
   ]
  },
  {
   "cell_type": "code",
   "execution_count": 12,
   "metadata": {},
   "outputs": [
    {
     "data": {
      "text/html": [
       "<ol class=list-inline>\n",
       "\t<li>8</li>\n",
       "\t<li>54</li>\n",
       "\t<li>62</li>\n",
       "\t<li>-1</li>\n",
       "\t<li>-2</li>\n",
       "\t<li>6</li>\n",
       "\t<li>-9</li>\n",
       "\t<li>7</li>\n",
       "</ol>\n"
      ],
      "text/latex": [
       "\\begin{enumerate*}\n",
       "\\item 8\n",
       "\\item 54\n",
       "\\item 62\n",
       "\\item -1\n",
       "\\item -2\n",
       "\\item 6\n",
       "\\item -9\n",
       "\\item 7\n",
       "\\end{enumerate*}\n"
      ],
      "text/markdown": [
       "1. 8\n",
       "2. 54\n",
       "3. 62\n",
       "4. -1\n",
       "5. -2\n",
       "6. 6\n",
       "7. -9\n",
       "8. 7\n",
       "\n",
       "\n"
      ],
      "text/plain": [
       "[1]  8 54 62 -1 -2  6 -9  7"
      ]
     },
     "metadata": {},
     "output_type": "display_data"
    }
   ],
   "source": [
    "vektor3"
   ]
  },
  {
   "cell_type": "code",
   "execution_count": 13,
   "metadata": {},
   "outputs": [],
   "source": [
    "#Bir vektor sayısal,karakter veya mantıksal değerler içerebilir.\n",
    "#Ancak farklı türde bir vektörde yer alamaz.Eğer farklı türde\n",
    "#veri girilmeye çalışılırsa R bu verilerin tümünü karakter türü\n",
    "#olarak alır ve vektör içerisine katar"
   ]
  },
  {
   "cell_type": "code",
   "execution_count": 15,
   "metadata": {},
   "outputs": [],
   "source": [
    "vektor4=c(61,3.14,\"Sakarya\",TRUE)"
   ]
  },
  {
   "cell_type": "code",
   "execution_count": 16,
   "metadata": {},
   "outputs": [
    {
     "data": {
      "text/html": [
       "<ol class=list-inline>\n",
       "\t<li>'61'</li>\n",
       "\t<li>'3.14'</li>\n",
       "\t<li>'Sakarya'</li>\n",
       "\t<li>'TRUE'</li>\n",
       "</ol>\n"
      ],
      "text/latex": [
       "\\begin{enumerate*}\n",
       "\\item '61'\n",
       "\\item '3.14'\n",
       "\\item 'Sakarya'\n",
       "\\item 'TRUE'\n",
       "\\end{enumerate*}\n"
      ],
      "text/markdown": [
       "1. '61'\n",
       "2. '3.14'\n",
       "3. 'Sakarya'\n",
       "4. 'TRUE'\n",
       "\n",
       "\n"
      ],
      "text/plain": [
       "[1] \"61\"      \"3.14\"    \"Sakarya\" \"TRUE\"   "
      ]
     },
     "metadata": {},
     "output_type": "display_data"
    }
   ],
   "source": [
    "vektor4"
   ]
  },
  {
   "cell_type": "markdown",
   "metadata": {},
   "source": [
    "# Vektör Elemanlarına Erişme İşlemi"
   ]
  },
  {
   "cell_type": "code",
   "execution_count": 19,
   "metadata": {},
   "outputs": [],
   "source": [
    "#Vektör elemanlarına indis (indeks) değer ile erişilir.Indeks vektör\n",
    "#içerisindeki verinin hangi pozisyonda olduğunu belirtir.\n",
    "#Indeks değeri []parantez içerisine yazılır. R'da indeks değerleri 1 den\n",
    "#başlar"
   ]
  },
  {
   "cell_type": "code",
   "execution_count": 20,
   "metadata": {},
   "outputs": [
    {
     "data": {
      "text/html": [
       "<ol class=list-inline>\n",
       "\t<li>8</li>\n",
       "\t<li>54</li>\n",
       "\t<li>62</li>\n",
       "\t<li>-1</li>\n",
       "\t<li>-2</li>\n",
       "\t<li>6</li>\n",
       "\t<li>-9</li>\n",
       "\t<li>7</li>\n",
       "</ol>\n"
      ],
      "text/latex": [
       "\\begin{enumerate*}\n",
       "\\item 8\n",
       "\\item 54\n",
       "\\item 62\n",
       "\\item -1\n",
       "\\item -2\n",
       "\\item 6\n",
       "\\item -9\n",
       "\\item 7\n",
       "\\end{enumerate*}\n"
      ],
      "text/markdown": [
       "1. 8\n",
       "2. 54\n",
       "3. 62\n",
       "4. -1\n",
       "5. -2\n",
       "6. 6\n",
       "7. -9\n",
       "8. 7\n",
       "\n",
       "\n"
      ],
      "text/plain": [
       "[1]  8 54 62 -1 -2  6 -9  7"
      ]
     },
     "metadata": {},
     "output_type": "display_data"
    }
   ],
   "source": [
    "vektor3"
   ]
  },
  {
   "cell_type": "code",
   "execution_count": 26,
   "metadata": {},
   "outputs": [
    {
     "data": {
      "text/html": [
       "7"
      ],
      "text/latex": [
       "7"
      ],
      "text/markdown": [
       "7"
      ],
      "text/plain": [
       "[1] 7"
      ]
     },
     "metadata": {},
     "output_type": "display_data"
    }
   ],
   "source": [
    "vektor3[8] #indeks değeri 8 olan veri elemanına erişim sağlar"
   ]
  },
  {
   "cell_type": "code",
   "execution_count": 27,
   "metadata": {},
   "outputs": [],
   "source": [
    "#vektör içerisindeki birden çok elemana aynı anda erişmek için\n",
    "#aşağıdaki kod yazılmalıdır."
   ]
  },
  {
   "cell_type": "code",
   "execution_count": 28,
   "metadata": {},
   "outputs": [
    {
     "data": {
      "text/html": [
       "<ol class=list-inline>\n",
       "\t<li>54</li>\n",
       "\t<li>62</li>\n",
       "\t<li>-1</li>\n",
       "</ol>\n"
      ],
      "text/latex": [
       "\\begin{enumerate*}\n",
       "\\item 54\n",
       "\\item 62\n",
       "\\item -1\n",
       "\\end{enumerate*}\n"
      ],
      "text/markdown": [
       "1. 54\n",
       "2. 62\n",
       "3. -1\n",
       "\n",
       "\n"
      ],
      "text/plain": [
       "[1] 54 62 -1"
      ]
     },
     "metadata": {},
     "output_type": "display_data"
    }
   ],
   "source": [
    "vektor3[2:4]"
   ]
  },
  {
   "cell_type": "markdown",
   "metadata": {},
   "source": [
    "# Vektörler ile Aritmatik işlemler gerçekleştirme"
   ]
  },
  {
   "cell_type": "code",
   "execution_count": 30,
   "metadata": {},
   "outputs": [],
   "source": [
    "x=c(1,3,5,7,9)\n",
    "y=c(2,4,6,8,10)"
   ]
  },
  {
   "cell_type": "code",
   "execution_count": 31,
   "metadata": {},
   "outputs": [],
   "source": [
    "toplam=x+y"
   ]
  },
  {
   "cell_type": "code",
   "execution_count": 32,
   "metadata": {},
   "outputs": [
    {
     "data": {
      "text/html": [
       "<ol class=list-inline>\n",
       "\t<li>3</li>\n",
       "\t<li>7</li>\n",
       "\t<li>11</li>\n",
       "\t<li>15</li>\n",
       "\t<li>19</li>\n",
       "</ol>\n"
      ],
      "text/latex": [
       "\\begin{enumerate*}\n",
       "\\item 3\n",
       "\\item 7\n",
       "\\item 11\n",
       "\\item 15\n",
       "\\item 19\n",
       "\\end{enumerate*}\n"
      ],
      "text/markdown": [
       "1. 3\n",
       "2. 7\n",
       "3. 11\n",
       "4. 15\n",
       "5. 19\n",
       "\n",
       "\n"
      ],
      "text/plain": [
       "[1]  3  7 11 15 19"
      ]
     },
     "metadata": {},
     "output_type": "display_data"
    }
   ],
   "source": [
    "toplam"
   ]
  },
  {
   "cell_type": "code",
   "execution_count": 33,
   "metadata": {},
   "outputs": [],
   "source": [
    "carpma = x*y"
   ]
  },
  {
   "cell_type": "code",
   "execution_count": 34,
   "metadata": {},
   "outputs": [
    {
     "data": {
      "text/html": [
       "<ol class=list-inline>\n",
       "\t<li>2</li>\n",
       "\t<li>12</li>\n",
       "\t<li>30</li>\n",
       "\t<li>56</li>\n",
       "\t<li>90</li>\n",
       "</ol>\n"
      ],
      "text/latex": [
       "\\begin{enumerate*}\n",
       "\\item 2\n",
       "\\item 12\n",
       "\\item 30\n",
       "\\item 56\n",
       "\\item 90\n",
       "\\end{enumerate*}\n"
      ],
      "text/markdown": [
       "1. 2\n",
       "2. 12\n",
       "3. 30\n",
       "4. 56\n",
       "5. 90\n",
       "\n",
       "\n"
      ],
      "text/plain": [
       "[1]  2 12 30 56 90"
      ]
     },
     "metadata": {},
     "output_type": "display_data"
    }
   ],
   "source": [
    "carpma"
   ]
  },
  {
   "cell_type": "code",
   "execution_count": 35,
   "metadata": {},
   "outputs": [],
   "source": [
    "bolme=x/y"
   ]
  },
  {
   "cell_type": "code",
   "execution_count": 36,
   "metadata": {},
   "outputs": [
    {
     "data": {
      "text/html": [
       "<ol class=list-inline>\n",
       "\t<li>0.5</li>\n",
       "\t<li>0.75</li>\n",
       "\t<li>0.833333333333333</li>\n",
       "\t<li>0.875</li>\n",
       "\t<li>0.9</li>\n",
       "</ol>\n"
      ],
      "text/latex": [
       "\\begin{enumerate*}\n",
       "\\item 0.5\n",
       "\\item 0.75\n",
       "\\item 0.833333333333333\n",
       "\\item 0.875\n",
       "\\item 0.9\n",
       "\\end{enumerate*}\n"
      ],
      "text/markdown": [
       "1. 0.5\n",
       "2. 0.75\n",
       "3. 0.833333333333333\n",
       "4. 0.875\n",
       "5. 0.9\n",
       "\n",
       "\n"
      ],
      "text/plain": [
       "[1] 0.5000000 0.7500000 0.8333333 0.8750000 0.9000000"
      ]
     },
     "metadata": {},
     "output_type": "display_data"
    }
   ],
   "source": [
    "bolme"
   ]
  },
  {
   "cell_type": "code",
   "execution_count": 37,
   "metadata": {},
   "outputs": [],
   "source": [
    "cikartma=y-x"
   ]
  },
  {
   "cell_type": "code",
   "execution_count": 38,
   "metadata": {},
   "outputs": [
    {
     "data": {
      "text/html": [
       "<ol class=list-inline>\n",
       "\t<li>1</li>\n",
       "\t<li>1</li>\n",
       "\t<li>1</li>\n",
       "\t<li>1</li>\n",
       "\t<li>1</li>\n",
       "</ol>\n"
      ],
      "text/latex": [
       "\\begin{enumerate*}\n",
       "\\item 1\n",
       "\\item 1\n",
       "\\item 1\n",
       "\\item 1\n",
       "\\item 1\n",
       "\\end{enumerate*}\n"
      ],
      "text/markdown": [
       "1. 1\n",
       "2. 1\n",
       "3. 1\n",
       "4. 1\n",
       "5. 1\n",
       "\n",
       "\n"
      ],
      "text/plain": [
       "[1] 1 1 1 1 1"
      ]
     },
     "metadata": {},
     "output_type": "display_data"
    }
   ],
   "source": [
    "cikartma"
   ]
  },
  {
   "cell_type": "markdown",
   "metadata": {},
   "source": [
    "# Mantıksal Vektör Oluşturma İşlemi"
   ]
  },
  {
   "cell_type": "code",
   "execution_count": 40,
   "metadata": {},
   "outputs": [],
   "source": [
    "#Mantıksal vektörler, TRUE,FALSE,ve NA değerlerini alabilir.\n",
    "#Aynı zamanda T ve F kısaltmaları da kullanılabilir."
   ]
  },
  {
   "cell_type": "code",
   "execution_count": 41,
   "metadata": {},
   "outputs": [],
   "source": [
    "vektor5=c(TRUE,FALSE,TRUE,FALSE,NA,NA)"
   ]
  },
  {
   "cell_type": "code",
   "execution_count": 42,
   "metadata": {},
   "outputs": [
    {
     "data": {
      "text/html": [
       "<ol class=list-inline>\n",
       "\t<li>TRUE</li>\n",
       "\t<li>FALSE</li>\n",
       "\t<li>TRUE</li>\n",
       "\t<li>FALSE</li>\n",
       "\t<li>&lt;NA&gt;</li>\n",
       "\t<li>&lt;NA&gt;</li>\n",
       "</ol>\n"
      ],
      "text/latex": [
       "\\begin{enumerate*}\n",
       "\\item TRUE\n",
       "\\item FALSE\n",
       "\\item TRUE\n",
       "\\item FALSE\n",
       "\\item <NA>\n",
       "\\item <NA>\n",
       "\\end{enumerate*}\n"
      ],
      "text/markdown": [
       "1. TRUE\n",
       "2. FALSE\n",
       "3. TRUE\n",
       "4. FALSE\n",
       "5. &lt;NA&gt;\n",
       "6. &lt;NA&gt;\n",
       "\n",
       "\n"
      ],
      "text/plain": [
       "[1]  TRUE FALSE  TRUE FALSE    NA    NA"
      ]
     },
     "metadata": {},
     "output_type": "display_data"
    }
   ],
   "source": [
    "vektor5"
   ]
  },
  {
   "cell_type": "code",
   "execution_count": 43,
   "metadata": {},
   "outputs": [],
   "source": [
    "#Vektörler içerisinden bir şarta bağlı işlemlerin sonucu mantıksal\n",
    "#çıktı olarak anlınabilir."
   ]
  },
  {
   "cell_type": "raw",
   "metadata": {},
   "source": [
    "vektor6=c(12,15,1,17,21,23,33,35)"
   ]
  },
  {
   "cell_type": "code",
   "execution_count": 45,
   "metadata": {},
   "outputs": [
    {
     "data": {
      "text/html": [
       "<ol class=list-inline>\n",
       "\t<li>FALSE</li>\n",
       "\t<li>FALSE</li>\n",
       "\t<li>FALSE</li>\n",
       "\t<li>FALSE</li>\n",
       "\t<li>FALSE</li>\n",
       "\t<li>TRUE</li>\n",
       "\t<li>TRUE</li>\n",
       "\t<li>TRUE</li>\n",
       "</ol>\n"
      ],
      "text/latex": [
       "\\begin{enumerate*}\n",
       "\\item FALSE\n",
       "\\item FALSE\n",
       "\\item FALSE\n",
       "\\item FALSE\n",
       "\\item FALSE\n",
       "\\item TRUE\n",
       "\\item TRUE\n",
       "\\item TRUE\n",
       "\\end{enumerate*}\n"
      ],
      "text/markdown": [
       "1. FALSE\n",
       "2. FALSE\n",
       "3. FALSE\n",
       "4. FALSE\n",
       "5. FALSE\n",
       "6. TRUE\n",
       "7. TRUE\n",
       "8. TRUE\n",
       "\n",
       "\n"
      ],
      "text/plain": [
       "[1] FALSE FALSE FALSE FALSE FALSE  TRUE  TRUE  TRUE"
      ]
     },
     "metadata": {},
     "output_type": "display_data"
    }
   ],
   "source": [
    "vektor6 > 21"
   ]
  },
  {
   "cell_type": "markdown",
   "metadata": {},
   "source": [
    "# Karakter Tipinde Vektör Oluşturma İşlemi"
   ]
  },
  {
   "cell_type": "code",
   "execution_count": 46,
   "metadata": {},
   "outputs": [],
   "source": [
    "#Vektörlerde karakter değerler \"\" içerisinde yazılır."
   ]
  },
  {
   "cell_type": "code",
   "execution_count": 48,
   "metadata": {},
   "outputs": [],
   "source": [
    "karakterVektor=c(\"Emrah\",\"Semiz\",\"Sakarya\",\"istanbul\")"
   ]
  },
  {
   "cell_type": "code",
   "execution_count": 49,
   "metadata": {},
   "outputs": [
    {
     "data": {
      "text/html": [
       "<ol class=list-inline>\n",
       "\t<li>'Emrah'</li>\n",
       "\t<li>'Semiz'</li>\n",
       "\t<li>'Sakarya'</li>\n",
       "\t<li>'istanbul'</li>\n",
       "</ol>\n"
      ],
      "text/latex": [
       "\\begin{enumerate*}\n",
       "\\item 'Emrah'\n",
       "\\item 'Semiz'\n",
       "\\item 'Sakarya'\n",
       "\\item 'istanbul'\n",
       "\\end{enumerate*}\n"
      ],
      "text/markdown": [
       "1. 'Emrah'\n",
       "2. 'Semiz'\n",
       "3. 'Sakarya'\n",
       "4. 'istanbul'\n",
       "\n",
       "\n"
      ],
      "text/plain": [
       "[1] \"Emrah\"    \"Semiz\"    \"Sakarya\"  \"istanbul\""
      ]
     },
     "metadata": {},
     "output_type": "display_data"
    }
   ],
   "source": [
    "karakterVektor"
   ]
  },
  {
   "cell_type": "code",
   "execution_count": 50,
   "metadata": {},
   "outputs": [],
   "source": [
    "#Vektörler başına ya da sonuna yeni eleman eklemek için aşağıdaki\n",
    "#işlem yapılır."
   ]
  },
  {
   "cell_type": "code",
   "execution_count": 54,
   "metadata": {},
   "outputs": [],
   "source": [
    "karakterVektor=c(karakterVektor,\"fatih\",\"sultan\",\"mehmet\")"
   ]
  },
  {
   "cell_type": "code",
   "execution_count": 55,
   "metadata": {},
   "outputs": [
    {
     "data": {
      "text/html": [
       "<ol class=list-inline>\n",
       "\t<li>'Emrah'</li>\n",
       "\t<li>'Semiz'</li>\n",
       "\t<li>'Sakarya'</li>\n",
       "\t<li>'istanbul'</li>\n",
       "\t<li>'fatih'</li>\n",
       "\t<li>'sultan'</li>\n",
       "\t<li>'mehmet'</li>\n",
       "</ol>\n"
      ],
      "text/latex": [
       "\\begin{enumerate*}\n",
       "\\item 'Emrah'\n",
       "\\item 'Semiz'\n",
       "\\item 'Sakarya'\n",
       "\\item 'istanbul'\n",
       "\\item 'fatih'\n",
       "\\item 'sultan'\n",
       "\\item 'mehmet'\n",
       "\\end{enumerate*}\n"
      ],
      "text/markdown": [
       "1. 'Emrah'\n",
       "2. 'Semiz'\n",
       "3. 'Sakarya'\n",
       "4. 'istanbul'\n",
       "5. 'fatih'\n",
       "6. 'sultan'\n",
       "7. 'mehmet'\n",
       "\n",
       "\n"
      ],
      "text/plain": [
       "[1] \"Emrah\"    \"Semiz\"    \"Sakarya\"  \"istanbul\" \"fatih\"    \"sultan\"   \"mehmet\"  "
      ]
     },
     "metadata": {},
     "output_type": "display_data"
    }
   ],
   "source": [
    "karakterVektor"
   ]
  },
  {
   "cell_type": "code",
   "execution_count": 56,
   "metadata": {},
   "outputs": [],
   "source": [
    "#Vektör elemanlarının uzunluğunu öğrenmek için length() fonksiyonunu\n",
    "#kullanılır."
   ]
  },
  {
   "cell_type": "code",
   "execution_count": 59,
   "metadata": {},
   "outputs": [
    {
     "data": {
      "text/html": [
       "7"
      ],
      "text/latex": [
       "7"
      ],
      "text/markdown": [
       "7"
      ],
      "text/plain": [
       "[1] 7"
      ]
     },
     "metadata": {},
     "output_type": "display_data"
    }
   ],
   "source": [
    "length(karakterVektor)"
   ]
  },
  {
   "cell_type": "code",
   "execution_count": 60,
   "metadata": {},
   "outputs": [],
   "source": [
    "#Karakter vektörler içerisinde yer alan her bir elemanın karakter\n",
    "#uzunluklarını öğrenmek için nchar() fonksiyonu kullanılır."
   ]
  },
  {
   "cell_type": "code",
   "execution_count": 61,
   "metadata": {},
   "outputs": [
    {
     "data": {
      "text/html": [
       "<ol class=list-inline>\n",
       "\t<li>5</li>\n",
       "\t<li>5</li>\n",
       "\t<li>7</li>\n",
       "\t<li>8</li>\n",
       "\t<li>5</li>\n",
       "\t<li>6</li>\n",
       "\t<li>6</li>\n",
       "</ol>\n"
      ],
      "text/latex": [
       "\\begin{enumerate*}\n",
       "\\item 5\n",
       "\\item 5\n",
       "\\item 7\n",
       "\\item 8\n",
       "\\item 5\n",
       "\\item 6\n",
       "\\item 6\n",
       "\\end{enumerate*}\n"
      ],
      "text/markdown": [
       "1. 5\n",
       "2. 5\n",
       "3. 7\n",
       "4. 8\n",
       "5. 5\n",
       "6. 6\n",
       "7. 6\n",
       "\n",
       "\n"
      ],
      "text/plain": [
       "[1] 5 5 7 8 5 6 6"
      ]
     },
     "metadata": {},
     "output_type": "display_data"
    }
   ],
   "source": [
    "nchar(karakterVektor)"
   ]
  },
  {
   "cell_type": "markdown",
   "metadata": {},
   "source": [
    "# Vektörlerin Bileştirilmesi İşlemi"
   ]
  },
  {
   "cell_type": "code",
   "execution_count": 62,
   "metadata": {},
   "outputs": [],
   "source": [
    "#İki vektörün elemanları tek bir vektör olarak birleştirmek için\n",
    "#c() fonksiyonu kullanılır."
   ]
  },
  {
   "cell_type": "code",
   "execution_count": 63,
   "metadata": {},
   "outputs": [
    {
     "data": {
      "text/html": [
       "<ol class=list-inline>\n",
       "\t<li>1</li>\n",
       "\t<li>3</li>\n",
       "\t<li>5</li>\n",
       "\t<li>7</li>\n",
       "\t<li>9</li>\n",
       "</ol>\n"
      ],
      "text/latex": [
       "\\begin{enumerate*}\n",
       "\\item 1\n",
       "\\item 3\n",
       "\\item 5\n",
       "\\item 7\n",
       "\\item 9\n",
       "\\end{enumerate*}\n"
      ],
      "text/markdown": [
       "1. 1\n",
       "2. 3\n",
       "3. 5\n",
       "4. 7\n",
       "5. 9\n",
       "\n",
       "\n"
      ],
      "text/plain": [
       "[1] 1 3 5 7 9"
      ]
     },
     "metadata": {},
     "output_type": "display_data"
    }
   ],
   "source": [
    "x"
   ]
  },
  {
   "cell_type": "code",
   "execution_count": 64,
   "metadata": {},
   "outputs": [
    {
     "data": {
      "text/html": [
       "<ol class=list-inline>\n",
       "\t<li>2</li>\n",
       "\t<li>4</li>\n",
       "\t<li>6</li>\n",
       "\t<li>8</li>\n",
       "\t<li>10</li>\n",
       "</ol>\n"
      ],
      "text/latex": [
       "\\begin{enumerate*}\n",
       "\\item 2\n",
       "\\item 4\n",
       "\\item 6\n",
       "\\item 8\n",
       "\\item 10\n",
       "\\end{enumerate*}\n"
      ],
      "text/markdown": [
       "1. 2\n",
       "2. 4\n",
       "3. 6\n",
       "4. 8\n",
       "5. 10\n",
       "\n",
       "\n"
      ],
      "text/plain": [
       "[1]  2  4  6  8 10"
      ]
     },
     "metadata": {},
     "output_type": "display_data"
    }
   ],
   "source": [
    "y"
   ]
  },
  {
   "cell_type": "code",
   "execution_count": 65,
   "metadata": {},
   "outputs": [],
   "source": [
    "z = c(x,y)"
   ]
  },
  {
   "cell_type": "code",
   "execution_count": 66,
   "metadata": {},
   "outputs": [
    {
     "data": {
      "text/html": [
       "<ol class=list-inline>\n",
       "\t<li>1</li>\n",
       "\t<li>3</li>\n",
       "\t<li>5</li>\n",
       "\t<li>7</li>\n",
       "\t<li>9</li>\n",
       "</ol>\n"
      ],
      "text/latex": [
       "\\begin{enumerate*}\n",
       "\\item 1\n",
       "\\item 3\n",
       "\\item 5\n",
       "\\item 7\n",
       "\\item 9\n",
       "\\end{enumerate*}\n"
      ],
      "text/markdown": [
       "1. 1\n",
       "2. 3\n",
       "3. 5\n",
       "4. 7\n",
       "5. 9\n",
       "\n",
       "\n"
      ],
      "text/plain": [
       "[1] 1 3 5 7 9"
      ]
     },
     "metadata": {},
     "output_type": "display_data"
    }
   ],
   "source": [
    "x"
   ]
  },
  {
   "cell_type": "code",
   "execution_count": 67,
   "metadata": {},
   "outputs": [
    {
     "data": {
      "text/html": [
       "<ol class=list-inline>\n",
       "\t<li>1</li>\n",
       "\t<li>3</li>\n",
       "\t<li>5</li>\n",
       "\t<li>7</li>\n",
       "\t<li>9</li>\n",
       "\t<li>2</li>\n",
       "\t<li>4</li>\n",
       "\t<li>6</li>\n",
       "\t<li>8</li>\n",
       "\t<li>10</li>\n",
       "</ol>\n"
      ],
      "text/latex": [
       "\\begin{enumerate*}\n",
       "\\item 1\n",
       "\\item 3\n",
       "\\item 5\n",
       "\\item 7\n",
       "\\item 9\n",
       "\\item 2\n",
       "\\item 4\n",
       "\\item 6\n",
       "\\item 8\n",
       "\\item 10\n",
       "\\end{enumerate*}\n"
      ],
      "text/markdown": [
       "1. 1\n",
       "2. 3\n",
       "3. 5\n",
       "4. 7\n",
       "5. 9\n",
       "6. 2\n",
       "7. 4\n",
       "8. 6\n",
       "9. 8\n",
       "10. 10\n",
       "\n",
       "\n"
      ],
      "text/plain": [
       " [1]  1  3  5  7  9  2  4  6  8 10"
      ]
     },
     "metadata": {},
     "output_type": "display_data"
    }
   ],
   "source": [
    "z"
   ]
  },
  {
   "cell_type": "markdown",
   "metadata": {},
   "source": [
    "# Vektör Üyelerini İsimlendirme İşlemi"
   ]
  },
  {
   "cell_type": "code",
   "execution_count": 68,
   "metadata": {},
   "outputs": [],
   "source": [
    "#Vektör elemanlarına isimlendirme yapılarak,  mevcut elemanlara bu \n",
    "#adlandırma üzerinden erişilebilir. Bu işlem için names() fonksiyonu\n",
    "#kullanılır."
   ]
  },
  {
   "cell_type": "code",
   "execution_count": 69,
   "metadata": {},
   "outputs": [],
   "source": [
    "isimler = c(\"Emrah\",\"Semiz\",\"Ordu\",\"Ünye\",\"Sivas\")"
   ]
  },
  {
   "cell_type": "code",
   "execution_count": 70,
   "metadata": {},
   "outputs": [],
   "source": [
    "names(isimler)=c(\"ID10\",\"ID20\",\"ID30\",\"ID40\",\"ID50\")"
   ]
  },
  {
   "cell_type": "code",
   "execution_count": 71,
   "metadata": {},
   "outputs": [
    {
     "data": {
      "text/html": [
       "<dl class=dl-horizontal>\n",
       "\t<dt>ID10</dt>\n",
       "\t\t<dd>'Emrah'</dd>\n",
       "\t<dt>ID20</dt>\n",
       "\t\t<dd>'Semiz'</dd>\n",
       "\t<dt>ID30</dt>\n",
       "\t\t<dd>'Ordu'</dd>\n",
       "\t<dt>ID40</dt>\n",
       "\t\t<dd>'Ünye'</dd>\n",
       "\t<dt>ID50</dt>\n",
       "\t\t<dd>'Sivas'</dd>\n",
       "</dl>\n"
      ],
      "text/latex": [
       "\\begin{description*}\n",
       "\\item[ID10] 'Emrah'\n",
       "\\item[ID20] 'Semiz'\n",
       "\\item[ID30] 'Ordu'\n",
       "\\item[ID40] 'Ünye'\n",
       "\\item[ID50] 'Sivas'\n",
       "\\end{description*}\n"
      ],
      "text/markdown": [
       "ID10\n",
       ":   'Emrah'ID20\n",
       ":   'Semiz'ID30\n",
       ":   'Ordu'ID40\n",
       ":   'Ünye'ID50\n",
       ":   'Sivas'\n",
       "\n"
      ],
      "text/plain": [
       "   ID10    ID20    ID30    ID40    ID50 \n",
       "\"Emrah\" \"Semiz\"  \"Ordu\"  \"Ünye\" \"Sivas\" "
      ]
     },
     "metadata": {},
     "output_type": "display_data"
    }
   ],
   "source": [
    "isimler"
   ]
  },
  {
   "cell_type": "markdown",
   "metadata": {},
   "source": [
    "# Vektör Elemanlarının Güncellenmesi"
   ]
  },
  {
   "cell_type": "code",
   "execution_count": 72,
   "metadata": {},
   "outputs": [],
   "source": [
    "#Güncelleme işleminde, değiştirilecek vektör elemanının indeks değeri\n",
    "#kullanılarak gerekli değişiklik yapılır."
   ]
  },
  {
   "cell_type": "code",
   "execution_count": 73,
   "metadata": {},
   "outputs": [
    {
     "data": {
      "text/html": [
       "<dl class=dl-horizontal>\n",
       "\t<dt>ID10</dt>\n",
       "\t\t<dd>'Emrah'</dd>\n",
       "\t<dt>ID20</dt>\n",
       "\t\t<dd>'Semiz'</dd>\n",
       "\t<dt>ID30</dt>\n",
       "\t\t<dd>'Ordu'</dd>\n",
       "\t<dt>ID40</dt>\n",
       "\t\t<dd>'Ünye'</dd>\n",
       "\t<dt>ID50</dt>\n",
       "\t\t<dd>'Sivas'</dd>\n",
       "</dl>\n"
      ],
      "text/latex": [
       "\\begin{description*}\n",
       "\\item[ID10] 'Emrah'\n",
       "\\item[ID20] 'Semiz'\n",
       "\\item[ID30] 'Ordu'\n",
       "\\item[ID40] 'Ünye'\n",
       "\\item[ID50] 'Sivas'\n",
       "\\end{description*}\n"
      ],
      "text/markdown": [
       "ID10\n",
       ":   'Emrah'ID20\n",
       ":   'Semiz'ID30\n",
       ":   'Ordu'ID40\n",
       ":   'Ünye'ID50\n",
       ":   'Sivas'\n",
       "\n"
      ],
      "text/plain": [
       "   ID10    ID20    ID30    ID40    ID50 \n",
       "\"Emrah\" \"Semiz\"  \"Ordu\"  \"Ünye\" \"Sivas\" "
      ]
     },
     "metadata": {},
     "output_type": "display_data"
    }
   ],
   "source": [
    "isimler"
   ]
  },
  {
   "cell_type": "markdown",
   "metadata": {},
   "source": [
    "isimler[5]=\"Sivas/Zara\""
   ]
  },
  {
   "cell_type": "code",
   "execution_count": 74,
   "metadata": {},
   "outputs": [
    {
     "data": {
      "text/html": [
       "<dl class=dl-horizontal>\n",
       "\t<dt>ID10</dt>\n",
       "\t\t<dd>'Emrah'</dd>\n",
       "\t<dt>ID20</dt>\n",
       "\t\t<dd>'Semiz'</dd>\n",
       "\t<dt>ID30</dt>\n",
       "\t\t<dd>'Ordu'</dd>\n",
       "\t<dt>ID40</dt>\n",
       "\t\t<dd>'Ünye'</dd>\n",
       "\t<dt>ID50</dt>\n",
       "\t\t<dd>'Sivas'</dd>\n",
       "</dl>\n"
      ],
      "text/latex": [
       "\\begin{description*}\n",
       "\\item[ID10] 'Emrah'\n",
       "\\item[ID20] 'Semiz'\n",
       "\\item[ID30] 'Ordu'\n",
       "\\item[ID40] 'Ünye'\n",
       "\\item[ID50] 'Sivas'\n",
       "\\end{description*}\n"
      ],
      "text/markdown": [
       "ID10\n",
       ":   'Emrah'ID20\n",
       ":   'Semiz'ID30\n",
       ":   'Ordu'ID40\n",
       ":   'Ünye'ID50\n",
       ":   'Sivas'\n",
       "\n"
      ],
      "text/plain": [
       "   ID10    ID20    ID30    ID40    ID50 \n",
       "\"Emrah\" \"Semiz\"  \"Ordu\"  \"Ünye\" \"Sivas\" "
      ]
     },
     "metadata": {},
     "output_type": "display_data"
    }
   ],
   "source": [
    "isimler"
   ]
  },
  {
   "cell_type": "code",
   "execution_count": 75,
   "metadata": {},
   "outputs": [],
   "source": [
    "isimler[5] = \"Zara/Sivas\""
   ]
  },
  {
   "cell_type": "code",
   "execution_count": 76,
   "metadata": {},
   "outputs": [
    {
     "data": {
      "text/html": [
       "<dl class=dl-horizontal>\n",
       "\t<dt>ID10</dt>\n",
       "\t\t<dd>'Emrah'</dd>\n",
       "\t<dt>ID20</dt>\n",
       "\t\t<dd>'Semiz'</dd>\n",
       "\t<dt>ID30</dt>\n",
       "\t\t<dd>'Ordu'</dd>\n",
       "\t<dt>ID40</dt>\n",
       "\t\t<dd>'Ünye'</dd>\n",
       "\t<dt>ID50</dt>\n",
       "\t\t<dd>'Zara/Sivas'</dd>\n",
       "</dl>\n"
      ],
      "text/latex": [
       "\\begin{description*}\n",
       "\\item[ID10] 'Emrah'\n",
       "\\item[ID20] 'Semiz'\n",
       "\\item[ID30] 'Ordu'\n",
       "\\item[ID40] 'Ünye'\n",
       "\\item[ID50] 'Zara/Sivas'\n",
       "\\end{description*}\n"
      ],
      "text/markdown": [
       "ID10\n",
       ":   'Emrah'ID20\n",
       ":   'Semiz'ID30\n",
       ":   'Ordu'ID40\n",
       ":   'Ünye'ID50\n",
       ":   'Zara/Sivas'\n",
       "\n"
      ],
      "text/plain": [
       "        ID10         ID20         ID30         ID40         ID50 \n",
       "     \"Emrah\"      \"Semiz\"       \"Ordu\"       \"Ünye\" \"Zara/Sivas\" "
      ]
     },
     "metadata": {},
     "output_type": "display_data"
    }
   ],
   "source": [
    "isimler"
   ]
  },
  {
   "cell_type": "code",
   "execution_count": 78,
   "metadata": {},
   "outputs": [],
   "source": [
    "#Vektör Elamanlarını Silme İşlemi\n",
    "#bu işlem için [-indeks numarası] biçimi kullanılır. negatif deger olduğu\n",
    "#için bir değişkene atamadıkca sadece bellekten silinir. Vektörden silinmez"
   ]
  },
  {
   "cell_type": "code",
   "execution_count": 79,
   "metadata": {},
   "outputs": [
    {
     "data": {
      "text/html": [
       "<dl class=dl-horizontal>\n",
       "\t<dt>ID10</dt>\n",
       "\t\t<dd>'Emrah'</dd>\n",
       "\t<dt>ID20</dt>\n",
       "\t\t<dd>'Semiz'</dd>\n",
       "\t<dt>ID30</dt>\n",
       "\t\t<dd>'Ordu'</dd>\n",
       "\t<dt>ID50</dt>\n",
       "\t\t<dd>'Zara/Sivas'</dd>\n",
       "</dl>\n"
      ],
      "text/latex": [
       "\\begin{description*}\n",
       "\\item[ID10] 'Emrah'\n",
       "\\item[ID20] 'Semiz'\n",
       "\\item[ID30] 'Ordu'\n",
       "\\item[ID50] 'Zara/Sivas'\n",
       "\\end{description*}\n"
      ],
      "text/markdown": [
       "ID10\n",
       ":   'Emrah'ID20\n",
       ":   'Semiz'ID30\n",
       ":   'Ordu'ID50\n",
       ":   'Zara/Sivas'\n",
       "\n"
      ],
      "text/plain": [
       "        ID10         ID20         ID30         ID50 \n",
       "     \"Emrah\"      \"Semiz\"       \"Ordu\" \"Zara/Sivas\" "
      ]
     },
     "metadata": {},
     "output_type": "display_data"
    }
   ],
   "source": [
    "isimler[-4]"
   ]
  },
  {
   "cell_type": "code",
   "execution_count": 80,
   "metadata": {},
   "outputs": [
    {
     "data": {
      "text/html": [
       "<dl class=dl-horizontal>\n",
       "\t<dt>ID10</dt>\n",
       "\t\t<dd>'Emrah'</dd>\n",
       "\t<dt>ID20</dt>\n",
       "\t\t<dd>'Semiz'</dd>\n",
       "\t<dt>ID30</dt>\n",
       "\t\t<dd>'Ordu'</dd>\n",
       "\t<dt>ID40</dt>\n",
       "\t\t<dd>'Ünye'</dd>\n",
       "\t<dt>ID50</dt>\n",
       "\t\t<dd>'Zara/Sivas'</dd>\n",
       "</dl>\n"
      ],
      "text/latex": [
       "\\begin{description*}\n",
       "\\item[ID10] 'Emrah'\n",
       "\\item[ID20] 'Semiz'\n",
       "\\item[ID30] 'Ordu'\n",
       "\\item[ID40] 'Ünye'\n",
       "\\item[ID50] 'Zara/Sivas'\n",
       "\\end{description*}\n"
      ],
      "text/markdown": [
       "ID10\n",
       ":   'Emrah'ID20\n",
       ":   'Semiz'ID30\n",
       ":   'Ordu'ID40\n",
       ":   'Ünye'ID50\n",
       ":   'Zara/Sivas'\n",
       "\n"
      ],
      "text/plain": [
       "        ID10         ID20         ID30         ID40         ID50 \n",
       "     \"Emrah\"      \"Semiz\"       \"Ordu\"       \"Ünye\" \"Zara/Sivas\" "
      ]
     },
     "metadata": {},
     "output_type": "display_data"
    }
   ],
   "source": [
    "isimler"
   ]
  },
  {
   "cell_type": "code",
   "execution_count": 81,
   "metadata": {},
   "outputs": [],
   "source": [
    "isimler = isimler[-4]"
   ]
  },
  {
   "cell_type": "code",
   "execution_count": 82,
   "metadata": {},
   "outputs": [
    {
     "data": {
      "text/html": [
       "<dl class=dl-horizontal>\n",
       "\t<dt>ID10</dt>\n",
       "\t\t<dd>'Emrah'</dd>\n",
       "\t<dt>ID20</dt>\n",
       "\t\t<dd>'Semiz'</dd>\n",
       "\t<dt>ID30</dt>\n",
       "\t\t<dd>'Ordu'</dd>\n",
       "\t<dt>ID50</dt>\n",
       "\t\t<dd>'Zara/Sivas'</dd>\n",
       "</dl>\n"
      ],
      "text/latex": [
       "\\begin{description*}\n",
       "\\item[ID10] 'Emrah'\n",
       "\\item[ID20] 'Semiz'\n",
       "\\item[ID30] 'Ordu'\n",
       "\\item[ID50] 'Zara/Sivas'\n",
       "\\end{description*}\n"
      ],
      "text/markdown": [
       "ID10\n",
       ":   'Emrah'ID20\n",
       ":   'Semiz'ID30\n",
       ":   'Ordu'ID50\n",
       ":   'Zara/Sivas'\n",
       "\n"
      ],
      "text/plain": [
       "        ID10         ID20         ID30         ID50 \n",
       "     \"Emrah\"      \"Semiz\"       \"Ordu\" \"Zara/Sivas\" "
      ]
     },
     "metadata": {},
     "output_type": "display_data"
    }
   ],
   "source": [
    "isimler"
   ]
  },
  {
   "cell_type": "code",
   "execution_count": 83,
   "metadata": {},
   "outputs": [],
   "source": [
    "#Belli bir indeks aralığındaki vektör elemanlarını silmek için\n",
    "#vektor_adi[-c(indeks numarası:indeksnumarası)] biçimi kullanılır"
   ]
  },
  {
   "cell_type": "code",
   "execution_count": 84,
   "metadata": {},
   "outputs": [],
   "source": [
    "yeniIsimler =c(\"Emrah\",\"Şeyma\",\"Semiz\",\"Ordu\",\"Sivas\")"
   ]
  },
  {
   "cell_type": "code",
   "execution_count": 87,
   "metadata": {},
   "outputs": [],
   "source": [
    "silinenIsimler = yeniIsimler[-c(2:4)]"
   ]
  },
  {
   "cell_type": "code",
   "execution_count": 88,
   "metadata": {},
   "outputs": [
    {
     "data": {
      "text/html": [
       "<ol class=list-inline>\n",
       "\t<li>'Emrah'</li>\n",
       "\t<li>'Şeyma'</li>\n",
       "\t<li>'Semiz'</li>\n",
       "\t<li>'Ordu'</li>\n",
       "\t<li>'Sivas'</li>\n",
       "</ol>\n"
      ],
      "text/latex": [
       "\\begin{enumerate*}\n",
       "\\item 'Emrah'\n",
       "\\item 'Şeyma'\n",
       "\\item 'Semiz'\n",
       "\\item 'Ordu'\n",
       "\\item 'Sivas'\n",
       "\\end{enumerate*}\n"
      ],
      "text/markdown": [
       "1. 'Emrah'\n",
       "2. 'Şeyma'\n",
       "3. 'Semiz'\n",
       "4. 'Ordu'\n",
       "5. 'Sivas'\n",
       "\n",
       "\n"
      ],
      "text/plain": [
       "[1] \"Emrah\" \"Şeyma\" \"Semiz\" \"Ordu\"  \"Sivas\""
      ]
     },
     "metadata": {},
     "output_type": "display_data"
    }
   ],
   "source": [
    "yeniIsimler"
   ]
  },
  {
   "cell_type": "code",
   "execution_count": 89,
   "metadata": {},
   "outputs": [
    {
     "data": {
      "text/html": [
       "<ol class=list-inline>\n",
       "\t<li>'Emrah'</li>\n",
       "\t<li>'Sivas'</li>\n",
       "</ol>\n"
      ],
      "text/latex": [
       "\\begin{enumerate*}\n",
       "\\item 'Emrah'\n",
       "\\item 'Sivas'\n",
       "\\end{enumerate*}\n"
      ],
      "text/markdown": [
       "1. 'Emrah'\n",
       "2. 'Sivas'\n",
       "\n",
       "\n"
      ],
      "text/plain": [
       "[1] \"Emrah\" \"Sivas\""
      ]
     },
     "metadata": {},
     "output_type": "display_data"
    }
   ],
   "source": [
    "silinenIsimler"
   ]
  },
  {
   "cell_type": "code",
   "execution_count": 90,
   "metadata": {},
   "outputs": [],
   "source": [
    "#Tüm verileri silmek için NULL parametresi kullanılır."
   ]
  },
  {
   "cell_type": "code",
   "execution_count": 91,
   "metadata": {},
   "outputs": [],
   "source": [
    "yeniIsimler=NULL"
   ]
  },
  {
   "cell_type": "code",
   "execution_count": 92,
   "metadata": {},
   "outputs": [
    {
     "data": {
      "text/plain": [
       "NULL"
      ]
     },
     "metadata": {},
     "output_type": "display_data"
    }
   ],
   "source": [
    "yeniIsimler"
   ]
  },
  {
   "cell_type": "markdown",
   "metadata": {},
   "source": [
    "# Vektör Elemanlarının Sıralanması"
   ]
  },
  {
   "cell_type": "code",
   "execution_count": 94,
   "metadata": {},
   "outputs": [],
   "source": [
    "#Bu işlem için order() ve sort() fonksiyonların kullanılır."
   ]
  },
  {
   "cell_type": "code",
   "execution_count": 96,
   "metadata": {},
   "outputs": [],
   "source": [
    "adlar=c(\"Zehra\",\"Ayşe\",\"Mehmet Ziya\",\"Alperen\",\"Özge\")"
   ]
  },
  {
   "cell_type": "code",
   "execution_count": 97,
   "metadata": {},
   "outputs": [
    {
     "data": {
      "text/html": [
       "<ol class=list-inline>\n",
       "\t<li>'Zehra'</li>\n",
       "\t<li>'Ayşe'</li>\n",
       "\t<li>'Mehmet Ziya'</li>\n",
       "\t<li>'Alperen'</li>\n",
       "\t<li>'Özge'</li>\n",
       "</ol>\n"
      ],
      "text/latex": [
       "\\begin{enumerate*}\n",
       "\\item 'Zehra'\n",
       "\\item 'Ayşe'\n",
       "\\item 'Mehmet Ziya'\n",
       "\\item 'Alperen'\n",
       "\\item 'Özge'\n",
       "\\end{enumerate*}\n"
      ],
      "text/markdown": [
       "1. 'Zehra'\n",
       "2. 'Ayşe'\n",
       "3. 'Mehmet Ziya'\n",
       "4. 'Alperen'\n",
       "5. 'Özge'\n",
       "\n",
       "\n"
      ],
      "text/plain": [
       "[1] \"Zehra\"       \"Ayşe\"        \"Mehmet Ziya\" \"Alperen\"     \"Özge\"       "
      ]
     },
     "metadata": {},
     "output_type": "display_data"
    }
   ],
   "source": [
    "adlar"
   ]
  },
  {
   "cell_type": "code",
   "execution_count": 98,
   "metadata": {},
   "outputs": [
    {
     "data": {
      "text/html": [
       "<ol class=list-inline>\n",
       "\t<li>'Alperen'</li>\n",
       "\t<li>'Ayşe'</li>\n",
       "\t<li>'Mehmet Ziya'</li>\n",
       "\t<li>'Özge'</li>\n",
       "\t<li>'Zehra'</li>\n",
       "</ol>\n"
      ],
      "text/latex": [
       "\\begin{enumerate*}\n",
       "\\item 'Alperen'\n",
       "\\item 'Ayşe'\n",
       "\\item 'Mehmet Ziya'\n",
       "\\item 'Özge'\n",
       "\\item 'Zehra'\n",
       "\\end{enumerate*}\n"
      ],
      "text/markdown": [
       "1. 'Alperen'\n",
       "2. 'Ayşe'\n",
       "3. 'Mehmet Ziya'\n",
       "4. 'Özge'\n",
       "5. 'Zehra'\n",
       "\n",
       "\n"
      ],
      "text/plain": [
       "[1] \"Alperen\"     \"Ayşe\"        \"Mehmet Ziya\" \"Özge\"        \"Zehra\"      "
      ]
     },
     "metadata": {},
     "output_type": "display_data"
    }
   ],
   "source": [
    "sort(adlar) #A-Z ye sıralama yapar"
   ]
  },
  {
   "cell_type": "code",
   "execution_count": 100,
   "metadata": {},
   "outputs": [],
   "source": [
    "#Z-A ya (büyükten küçüğe doğru) sıralama işlemi için decreasing=FALSE\n",
    "#fonksiyonu kullanılır. Default olarak A-Z sıralama yapar"
   ]
  },
  {
   "cell_type": "code",
   "execution_count": 102,
   "metadata": {},
   "outputs": [
    {
     "data": {
      "text/html": [
       "<ol class=list-inline>\n",
       "\t<li>'Zehra'</li>\n",
       "\t<li>'Özge'</li>\n",
       "\t<li>'Mehmet Ziya'</li>\n",
       "\t<li>'Ayşe'</li>\n",
       "\t<li>'Alperen'</li>\n",
       "</ol>\n"
      ],
      "text/latex": [
       "\\begin{enumerate*}\n",
       "\\item 'Zehra'\n",
       "\\item 'Özge'\n",
       "\\item 'Mehmet Ziya'\n",
       "\\item 'Ayşe'\n",
       "\\item 'Alperen'\n",
       "\\end{enumerate*}\n"
      ],
      "text/markdown": [
       "1. 'Zehra'\n",
       "2. 'Özge'\n",
       "3. 'Mehmet Ziya'\n",
       "4. 'Ayşe'\n",
       "5. 'Alperen'\n",
       "\n",
       "\n"
      ],
      "text/plain": [
       "[1] \"Zehra\"       \"Özge\"        \"Mehmet Ziya\" \"Ayşe\"        \"Alperen\"    "
      ]
     },
     "metadata": {},
     "output_type": "display_data"
    }
   ],
   "source": [
    "sort(adlar,decreasing = TRUE)"
   ]
  },
  {
   "cell_type": "code",
   "execution_count": 103,
   "metadata": {},
   "outputs": [
    {
     "data": {
      "text/html": [
       "<ol class=list-inline>\n",
       "\t<li>1</li>\n",
       "\t<li>5</li>\n",
       "\t<li>3</li>\n",
       "\t<li>2</li>\n",
       "\t<li>4</li>\n",
       "</ol>\n"
      ],
      "text/latex": [
       "\\begin{enumerate*}\n",
       "\\item 1\n",
       "\\item 5\n",
       "\\item 3\n",
       "\\item 2\n",
       "\\item 4\n",
       "\\end{enumerate*}\n"
      ],
      "text/markdown": [
       "1. 1\n",
       "2. 5\n",
       "3. 3\n",
       "4. 2\n",
       "5. 4\n",
       "\n",
       "\n"
      ],
      "text/plain": [
       "[1] 1 5 3 2 4"
      ]
     },
     "metadata": {},
     "output_type": "display_data"
    }
   ],
   "source": [
    "order(adlar,decreasing = TRUE) #indis numarasını verir ve indir numarasını\n",
    "#sıralar"
   ]
  },
  {
   "cell_type": "markdown",
   "metadata": {},
   "source": [
    "# Faktör Kavramı"
   ]
  },
  {
   "cell_type": "code",
   "execution_count": 107,
   "metadata": {},
   "outputs": [],
   "source": [
    "#Faktörler sayısal ya da karakteristik değerler içeren değişkenler\n",
    "#olarak adlandırılır.Faktörlerde düzeysel yapı vardır.\n",
    "#Faktör oluşturmak için factor() fonksiyonu kullanılır.\n",
    "#Faktör oluşturmak için ilk olarak vektör oluşturulur sonra\n",
    "#vektöre faktöre dönüştürülür"
   ]
  },
  {
   "cell_type": "code",
   "execution_count": 108,
   "metadata": {},
   "outputs": [],
   "source": [
    "faktor=factor(c(\"orta\",\"yüksek\",\"orta\",\"düşük\",\"orta\",\"yüksek\",\"düşük\"))"
   ]
  },
  {
   "cell_type": "code",
   "execution_count": 109,
   "metadata": {},
   "outputs": [
    {
     "data": {
      "text/html": [
       "<ol class=list-inline>\n",
       "\t<li>orta</li>\n",
       "\t<li>yüksek</li>\n",
       "\t<li>orta</li>\n",
       "\t<li>düşük</li>\n",
       "\t<li>orta</li>\n",
       "\t<li>yüksek</li>\n",
       "\t<li>düşük</li>\n",
       "</ol>\n",
       "\n",
       "<details>\n",
       "\t<summary style=display:list-item;cursor:pointer>\n",
       "\t\t<strong>Levels</strong>:\n",
       "\t</summary>\n",
       "\t<ol class=list-inline>\n",
       "\t\t<li>'düşük'</li>\n",
       "\t\t<li>'orta'</li>\n",
       "\t\t<li>'yüksek'</li>\n",
       "\t</ol>\n",
       "</details>"
      ],
      "text/latex": [
       "\\begin{enumerate*}\n",
       "\\item orta\n",
       "\\item yüksek\n",
       "\\item orta\n",
       "\\item düşük\n",
       "\\item orta\n",
       "\\item yüksek\n",
       "\\item düşük\n",
       "\\end{enumerate*}\n",
       "\n",
       "\\emph{Levels}: \\begin{enumerate*}\n",
       "\\item 'düşük'\n",
       "\\item 'orta'\n",
       "\\item 'yüksek'\n",
       "\\end{enumerate*}\n"
      ],
      "text/markdown": [
       "1. orta\n",
       "2. yüksek\n",
       "3. orta\n",
       "4. düşük\n",
       "5. orta\n",
       "6. yüksek\n",
       "7. düşük\n",
       "\n",
       "\n",
       "\n",
       "**Levels**: 1. 'düşük'\n",
       "2. 'orta'\n",
       "3. 'yüksek'\n",
       "\n",
       "\n"
      ],
      "text/plain": [
       "[1] orta   yüksek orta   düşük  orta   yüksek düşük \n",
       "Levels: düşük orta yüksek"
      ]
     },
     "metadata": {},
     "output_type": "display_data"
    }
   ],
   "source": [
    "faktor"
   ]
  },
  {
   "cell_type": "code",
   "execution_count": 110,
   "metadata": {},
   "outputs": [],
   "source": [
    "#Faktöre Elemanlarına Erişim ve Güncelleme Yapma İşlemi"
   ]
  },
  {
   "cell_type": "code",
   "execution_count": 111,
   "metadata": {},
   "outputs": [],
   "source": [
    "#Değişiklik yapma işlemi"
   ]
  },
  {
   "cell_type": "code",
   "execution_count": 113,
   "metadata": {},
   "outputs": [
    {
     "name": "stderr",
     "output_type": "stream",
     "text": [
      "Warning message in `[<-.factor`(`*tmp*`, 3, value = \"Çok Yüksek\"):\n",
      "\"invalid factor level, NA generated\""
     ]
    }
   ],
   "source": [
    "faktor[3]=\"Çok Yüksek\"  #level içerisinde hangi değer var ise o değer\n",
    "#verilebilir. Level içinde yer alanlar dışında verilemez"
   ]
  },
  {
   "cell_type": "code",
   "execution_count": 114,
   "metadata": {},
   "outputs": [],
   "source": [
    "faktor[3]=\"düşük\""
   ]
  },
  {
   "cell_type": "code",
   "execution_count": 115,
   "metadata": {},
   "outputs": [
    {
     "data": {
      "text/html": [
       "<ol class=list-inline>\n",
       "\t<li>orta</li>\n",
       "\t<li>yüksek</li>\n",
       "\t<li>düşük</li>\n",
       "\t<li>düşük</li>\n",
       "\t<li>orta</li>\n",
       "\t<li>yüksek</li>\n",
       "\t<li>düşük</li>\n",
       "</ol>\n",
       "\n",
       "<details>\n",
       "\t<summary style=display:list-item;cursor:pointer>\n",
       "\t\t<strong>Levels</strong>:\n",
       "\t</summary>\n",
       "\t<ol class=list-inline>\n",
       "\t\t<li>'düşük'</li>\n",
       "\t\t<li>'orta'</li>\n",
       "\t\t<li>'yüksek'</li>\n",
       "\t</ol>\n",
       "</details>"
      ],
      "text/latex": [
       "\\begin{enumerate*}\n",
       "\\item orta\n",
       "\\item yüksek\n",
       "\\item düşük\n",
       "\\item düşük\n",
       "\\item orta\n",
       "\\item yüksek\n",
       "\\item düşük\n",
       "\\end{enumerate*}\n",
       "\n",
       "\\emph{Levels}: \\begin{enumerate*}\n",
       "\\item 'düşük'\n",
       "\\item 'orta'\n",
       "\\item 'yüksek'\n",
       "\\end{enumerate*}\n"
      ],
      "text/markdown": [
       "1. orta\n",
       "2. yüksek\n",
       "3. düşük\n",
       "4. düşük\n",
       "5. orta\n",
       "6. yüksek\n",
       "7. düşük\n",
       "\n",
       "\n",
       "\n",
       "**Levels**: 1. 'düşük'\n",
       "2. 'orta'\n",
       "3. 'yüksek'\n",
       "\n",
       "\n"
      ],
      "text/plain": [
       "[1] orta   yüksek düşük  düşük  orta   yüksek düşük \n",
       "Levels: düşük orta yüksek"
      ]
     },
     "metadata": {},
     "output_type": "display_data"
    }
   ],
   "source": [
    "faktor"
   ]
  },
  {
   "cell_type": "code",
   "execution_count": 116,
   "metadata": {},
   "outputs": [],
   "source": [
    "#Silme İşlemi"
   ]
  },
  {
   "cell_type": "code",
   "execution_count": 120,
   "metadata": {},
   "outputs": [],
   "source": [
    "yeniFaktor = faktor[-4]"
   ]
  },
  {
   "cell_type": "code",
   "execution_count": 121,
   "metadata": {},
   "outputs": [
    {
     "data": {
      "text/html": [
       "<ol class=list-inline>\n",
       "\t<li>orta</li>\n",
       "\t<li>yüksek</li>\n",
       "\t<li>düşük</li>\n",
       "\t<li>orta</li>\n",
       "\t<li>yüksek</li>\n",
       "\t<li>düşük</li>\n",
       "</ol>\n",
       "\n",
       "<details>\n",
       "\t<summary style=display:list-item;cursor:pointer>\n",
       "\t\t<strong>Levels</strong>:\n",
       "\t</summary>\n",
       "\t<ol class=list-inline>\n",
       "\t\t<li>'düşük'</li>\n",
       "\t\t<li>'orta'</li>\n",
       "\t\t<li>'yüksek'</li>\n",
       "\t</ol>\n",
       "</details>"
      ],
      "text/latex": [
       "\\begin{enumerate*}\n",
       "\\item orta\n",
       "\\item yüksek\n",
       "\\item düşük\n",
       "\\item orta\n",
       "\\item yüksek\n",
       "\\item düşük\n",
       "\\end{enumerate*}\n",
       "\n",
       "\\emph{Levels}: \\begin{enumerate*}\n",
       "\\item 'düşük'\n",
       "\\item 'orta'\n",
       "\\item 'yüksek'\n",
       "\\end{enumerate*}\n"
      ],
      "text/markdown": [
       "1. orta\n",
       "2. yüksek\n",
       "3. düşük\n",
       "4. orta\n",
       "5. yüksek\n",
       "6. düşük\n",
       "\n",
       "\n",
       "\n",
       "**Levels**: 1. 'düşük'\n",
       "2. 'orta'\n",
       "3. 'yüksek'\n",
       "\n",
       "\n"
      ],
      "text/plain": [
       "[1] orta   yüksek düşük  orta   yüksek düşük \n",
       "Levels: düşük orta yüksek"
      ]
     },
     "metadata": {},
     "output_type": "display_data"
    }
   ],
   "source": [
    "yeniFaktor"
   ]
  },
  {
   "cell_type": "code",
   "execution_count": null,
   "metadata": {},
   "outputs": [],
   "source": []
  }
 ],
 "metadata": {
  "kernelspec": {
   "display_name": "R",
   "language": "R",
   "name": "ir"
  },
  "language_info": {
   "codemirror_mode": "r",
   "file_extension": ".r",
   "mimetype": "text/x-r-source",
   "name": "R",
   "pygments_lexer": "r",
   "version": "3.6.1"
  }
 },
 "nbformat": 4,
 "nbformat_minor": 4
}
