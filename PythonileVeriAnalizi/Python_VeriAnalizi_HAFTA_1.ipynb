{
 "cells": [
  {
   "cell_type": "markdown",
   "metadata": {},
   "source": [
    "# Python_VeriAnalizi_HAFTA_1"
   ]
  },
  {
   "cell_type": "code",
   "execution_count": 1,
   "metadata": {},
   "outputs": [
    {
     "name": "stdout",
     "output_type": "stream",
     "text": [
      "Bilişim Sistemleri Mühendisliği Bölümü!\n"
     ]
    }
   ],
   "source": [
    "print(\"Bilişim Sistemleri Mühendisliği Bölümü!\")"
   ]
  },
  {
   "cell_type": "code",
   "execution_count": 4,
   "metadata": {},
   "outputs": [],
   "source": [
    "#Temel Kontrol Yapılaro\n",
    "#Sıralı Yapı\n",
    "#Karar Verme Yapısı (İf - Switch) Deyimi --- base python da switch deyimi mevcut değildir\n",
    "#Tekrarlı Yapı\n",
    "## Örnek ##\n",
    "### sayi=1\n",
    "### while sayi < 10:\n",
    "### print(sayi)\n",
    "### sayi+=1   => satır silinirse sonsuz döngü olur"
   ]
  },
  {
   "cell_type": "code",
   "execution_count": 5,
   "metadata": {},
   "outputs": [
    {
     "name": "stdout",
     "output_type": "stream",
     "text": [
      "1\n",
      "2\n",
      "3\n",
      "4\n",
      "5\n",
      "6\n",
      "7\n",
      "8\n",
      "9\n"
     ]
    }
   ],
   "source": [
    "sayi = 1\n",
    "while sayi < 10:\n",
    "    print(sayi)\n",
    "    sayi+=1"
   ]
  },
  {
   "cell_type": "code",
   "execution_count": 6,
   "metadata": {},
   "outputs": [
    {
     "name": "stdout",
     "output_type": "stream",
     "text": [
      "1\n",
      "2\n",
      "3\n",
      "4\n",
      "5\n",
      "6\n",
      "7\n",
      "8\n",
      "9\n"
     ]
    }
   ],
   "source": [
    "sayi = 1\n",
    "while sayi < 10:\n",
    "    print(sayi)\n",
    "    sayi=sayi+1 #increment"
   ]
  },
  {
   "cell_type": "code",
   "execution_count": 12,
   "metadata": {},
   "outputs": [
    {
     "name": "stdout",
     "output_type": "stream",
     "text": [
      "1\n",
      "2\n",
      "3\n",
      "4\n",
      "5\n",
      "6\n",
      "7\n",
      "8\n",
      "9\n"
     ]
    }
   ],
   "source": [
    "for sayi in range(1,10):\n",
    "    print(sayi) ##1'den 9'a kadar olan sayıların listesi"
   ]
  },
  {
   "cell_type": "code",
   "execution_count": 13,
   "metadata": {},
   "outputs": [
    {
     "name": "stdout",
     "output_type": "stream",
     "text": [
      "0\n",
      "1\n",
      "2\n",
      "3\n",
      "4\n",
      "5\n",
      "6\n",
      "7\n",
      "8\n",
      "9\n"
     ]
    }
   ],
   "source": [
    "for sayi in range(10):\n",
    "    print(sayi)    ##0'dan 9'a kadar olan sayıların listesi"
   ]
  },
  {
   "cell_type": "code",
   "execution_count": 15,
   "metadata": {},
   "outputs": [
    {
     "name": "stdout",
     "output_type": "stream",
     "text": [
      "10\n",
      "8\n",
      "6\n",
      "4\n",
      "2\n"
     ]
    }
   ],
   "source": [
    "for sayi in range(10,1,-2):\n",
    "    print(sayi)    ##10'dan başlayarak çifter çifter 1'e kadar olan sayıların listesi"
   ]
  },
  {
   "cell_type": "code",
   "execution_count": 16,
   "metadata": {},
   "outputs": [
    {
     "name": "stdout",
     "output_type": "stream",
     "text": [
      "sayilar: 1\n",
      "sayilar: 2\n",
      "sayilar: 3\n",
      "sayilar: 4\n",
      "sayilar: 5\n",
      "sayilar: 6\n",
      "sayilar: 7\n",
      "sayilar: 8\n",
      "sayilar: 9\n"
     ]
    }
   ],
   "source": [
    "for sayi in range(1,10):\n",
    "    print(\"sayilar:\",sayi)"
   ]
  },
  {
   "cell_type": "code",
   "execution_count": 17,
   "metadata": {},
   "outputs": [
    {
     "name": "stdout",
     "output_type": "stream",
     "text": [
      "sayilar: 2\n",
      "sayilar: 4\n",
      "sayilar: 6\n",
      "sayilar: 8\n",
      "sayilar: 10\n",
      "sayilar: 12\n",
      "sayilar: 14\n",
      "sayilar: 16\n",
      "sayilar: 18\n"
     ]
    }
   ],
   "source": [
    "for sayi in range(1,10):\n",
    "    print(\"sayilar:\",sayi+sayi)"
   ]
  },
  {
   "cell_type": "code",
   "execution_count": 21,
   "metadata": {},
   "outputs": [
    {
     "name": "stdout",
     "output_type": "stream",
     "text": [
      "dersin tekrar alınması gerekiyor\n"
     ]
    }
   ],
   "source": [
    "basariNotu = 90\n",
    "if basariNotu >=65:\n",
    "    print(\"dersi geçmiştir\")\n",
    "else:\n",
    "    print(\"dersin tekrar alınması gerekiyor\")"
   ]
  },
  {
   "cell_type": "code",
   "execution_count": 22,
   "metadata": {},
   "outputs": [
    {
     "ename": "SyntaxError",
     "evalue": "invalid syntax (<ipython-input-22-6b88175921aa>, line 1)",
     "output_type": "error",
     "traceback": [
      "\u001b[1;36m  File \u001b[1;32m\"<ipython-input-22-6b88175921aa>\"\u001b[1;36m, line \u001b[1;32m1\u001b[0m\n\u001b[1;33m    print type('Sakarya Üniversitesi')\u001b[0m\n\u001b[1;37m          ^\u001b[0m\n\u001b[1;31mSyntaxError\u001b[0m\u001b[1;31m:\u001b[0m invalid syntax\n"
     ]
    }
   ],
   "source": [
    "print type('Sakarya Üniversitesi')"
   ]
  },
  {
   "cell_type": "code",
   "execution_count": 23,
   "metadata": {},
   "outputs": [
    {
     "name": "stdout",
     "output_type": "stream",
     "text": [
      "Sakarya Üniversitesi\n",
      "100\n",
      "50.0\n"
     ]
    }
   ],
   "source": [
    "print(\"Sakarya Üniversitesi\")\n",
    "print(100)\n",
    "print(50.0)"
   ]
  },
  {
   "cell_type": "code",
   "execution_count": 28,
   "metadata": {},
   "outputs": [
    {
     "name": "stdout",
     "output_type": "stream",
     "text": [
      "<class 'str'>\n",
      "<class 'int'>\n",
      "<class 'float'>\n"
     ]
    }
   ],
   "source": [
    "print(type('Sakarya Üniversitesi'))\n",
    "print(type(100))\n",
    "print(type(50.0))"
   ]
  },
  {
   "cell_type": "code",
   "execution_count": 29,
   "metadata": {},
   "outputs": [
    {
     "name": "stdout",
     "output_type": "stream",
     "text": [
      "Sakarya Üniversitesi\n",
      "Sakarya Üniversitesi\n"
     ]
    }
   ],
   "source": [
    "print(\"Sakarya Üniversitesi\")\n",
    "print('Sakarya Üniversitesi')"
   ]
  },
  {
   "cell_type": "code",
   "execution_count": 31,
   "metadata": {},
   "outputs": [
    {
     "name": "stdout",
     "output_type": "stream",
     "text": [
      "95.0\n"
     ]
    }
   ],
   "source": [
    "vizeNotu = 100\n",
    "finalNotu = 90\n",
    "print((vizeNotu+finalNotu)/2)"
   ]
  },
  {
   "cell_type": "code",
   "execution_count": null,
   "metadata": {},
   "outputs": [],
   "source": []
  }
 ],
 "metadata": {
  "kernelspec": {
   "display_name": "Python 3",
   "language": "python",
   "name": "python3"
  },
  "language_info": {
   "codemirror_mode": {
    "name": "ipython",
    "version": 3
   },
   "file_extension": ".py",
   "mimetype": "text/x-python",
   "name": "python",
   "nbconvert_exporter": "python",
   "pygments_lexer": "ipython3",
   "version": "3.8.3"
  }
 },
 "nbformat": 4,
 "nbformat_minor": 4
}
