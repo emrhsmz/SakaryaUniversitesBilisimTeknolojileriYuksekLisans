{
 "cells": [
  {
   "cell_type": "markdown",
   "metadata": {},
   "source": [
    "# Python_VeriAnalizi_HAFTA_2"
   ]
  },
  {
   "cell_type": "code",
   "execution_count": 1,
   "metadata": {},
   "outputs": [
    {
     "name": "stdout",
     "output_type": "stream",
     "text": [
      "isminizi klavyeden giriniz.emrah semiz\n"
     ]
    }
   ],
   "source": [
    "isim=input(\"isminizi klavyeden giriniz.\")"
   ]
  },
  {
   "cell_type": "code",
   "execution_count": 2,
   "metadata": {},
   "outputs": [
    {
     "name": "stdout",
     "output_type": "stream",
     "text": [
      "emrah semiz\n"
     ]
    }
   ],
   "source": [
    "print(isim)"
   ]
  },
  {
   "cell_type": "code",
   "execution_count": 3,
   "metadata": {},
   "outputs": [
    {
     "name": "stdout",
     "output_type": "stream",
     "text": [
      "sayi1:20\n"
     ]
    }
   ],
   "source": [
    "sayi1= int(input(\"sayi1:\"))"
   ]
  },
  {
   "cell_type": "code",
   "execution_count": 4,
   "metadata": {},
   "outputs": [
    {
     "name": "stdout",
     "output_type": "stream",
     "text": [
      "sayi2:30\n"
     ]
    }
   ],
   "source": [
    "sayi2=int(input(\"sayi2:\"))"
   ]
  },
  {
   "cell_type": "code",
   "execution_count": 5,
   "metadata": {},
   "outputs": [
    {
     "name": "stdout",
     "output_type": "stream",
     "text": [
      "sayi3:15\n"
     ]
    }
   ],
   "source": [
    "sayi3=int(input(\"sayi3:\"))"
   ]
  },
  {
   "cell_type": "code",
   "execution_count": 6,
   "metadata": {},
   "outputs": [],
   "source": [
    "#ortalama hesabı"
   ]
  },
  {
   "cell_type": "code",
   "execution_count": 9,
   "metadata": {},
   "outputs": [],
   "source": [
    "ortalama=(sayi1+sayi2+sayi3)/3"
   ]
  },
  {
   "cell_type": "code",
   "execution_count": 10,
   "metadata": {},
   "outputs": [],
   "source": [
    "#sonuçların ekrana yazdırılması"
   ]
  },
  {
   "cell_type": "code",
   "execution_count": 11,
   "metadata": {},
   "outputs": [
    {
     "name": "stdout",
     "output_type": "stream",
     "text": [
      "sayilarin ortalaması: 21.666666666666668\n"
     ]
    }
   ],
   "source": [
    "print(\"sayilarin ortalaması:\", ortalama)"
   ]
  },
  {
   "cell_type": "code",
   "execution_count": 12,
   "metadata": {},
   "outputs": [
    {
     "name": "stdout",
     "output_type": "stream",
     "text": [
      "Birinci Sayısı Giriniz:15\n"
     ]
    }
   ],
   "source": [
    "sayi_1 = int(input(\"Birinci Sayısı Giriniz:\"))"
   ]
  },
  {
   "cell_type": "code",
   "execution_count": 13,
   "metadata": {},
   "outputs": [
    {
     "name": "stdout",
     "output_type": "stream",
     "text": [
      "İkinci Sayısı Giriniz:50\n"
     ]
    }
   ],
   "source": [
    "sayi_2 = int(input(\"İkinci Sayısı Giriniz:\"))"
   ]
  },
  {
   "cell_type": "code",
   "execution_count": 14,
   "metadata": {},
   "outputs": [],
   "source": [
    "#dört işlemin sonucu\n",
    "sonuc = sayi_1+sayi_2"
   ]
  },
  {
   "cell_type": "code",
   "execution_count": 15,
   "metadata": {},
   "outputs": [
    {
     "name": "stdout",
     "output_type": "stream",
     "text": [
      "Sayıların Toplamı: 65\n"
     ]
    }
   ],
   "source": [
    "print(\"Sayıların Toplamı:\",sonuc)"
   ]
  },
  {
   "cell_type": "code",
   "execution_count": 16,
   "metadata": {},
   "outputs": [
    {
     "name": "stdout",
     "output_type": "stream",
     "text": [
      "Sayıların Farkı: 35\n"
     ]
    }
   ],
   "source": [
    "print(\"Sayıların Farkı:\",sayi_2 - sayi_1)"
   ]
  },
  {
   "cell_type": "code",
   "execution_count": 17,
   "metadata": {},
   "outputs": [
    {
     "name": "stdout",
     "output_type": "stream",
     "text": [
      "Sayıların Çarpımı: 750\n"
     ]
    }
   ],
   "source": [
    "print(\"Sayıların Çarpımı:\",sayi_1*sayi_2)"
   ]
  },
  {
   "cell_type": "code",
   "execution_count": 18,
   "metadata": {},
   "outputs": [
    {
     "name": "stdout",
     "output_type": "stream",
     "text": [
      "Sayıların Bölümü: 2.5\n"
     ]
    }
   ],
   "source": [
    "print(\"Sayıların Bölümü:\",sayi_2/sayi1)"
   ]
  },
  {
   "cell_type": "code",
   "execution_count": 19,
   "metadata": {},
   "outputs": [],
   "source": [
    "import os"
   ]
  },
  {
   "cell_type": "code",
   "execution_count": 20,
   "metadata": {},
   "outputs": [
    {
     "name": "stdout",
     "output_type": "stream",
     "text": [
      "Kullanıcı Adı: Emrah\n"
     ]
    }
   ],
   "source": [
    "print(\"Kullanıcı Adı:\",os.environ[\"USERNAME\"])"
   ]
  },
  {
   "cell_type": "code",
   "execution_count": 22,
   "metadata": {},
   "outputs": [
    {
     "name": "stdout",
     "output_type": "stream",
     "text": [
      "Kullanıcı Adı: Emrah\n",
      "Bilgisayar Adı: DESKTOP-VO5P5BN\n",
      "Ev Dizini     : \\Users\\Emrah\n",
      "İşlemci       : Intel64 Family 6 Model 58 Stepping 9, GenuineIntel\n",
      "İşlemci Sayısı: 4\n",
      "İşletim Sistemi: Windows_NT\n"
     ]
    }
   ],
   "source": [
    "print(\"Kullanıcı Adı:\",os.environ[\"USERNAME\"])\n",
    "print(\"Bilgisayar Adı:\", os.environ[\"COMPUTERNAME\"])\n",
    "print(\"Ev Dizini     :\", os.environ[\"HOMEPATH\"])\n",
    "print(\"İşlemci       :\",os.environ[\"PROCESSOR_IDENTIFIER\"])\n",
    "print(\"İşlemci Sayısı:\",os.environ[\"NUMBER_OF_PROCESSORS\"])\n",
    "print(\"İşletim Sistemi:\",os.environ[\"OS\"])"
   ]
  },
  {
   "cell_type": "code",
   "execution_count": 24,
   "metadata": {},
   "outputs": [
    {
     "name": "stdout",
     "output_type": "stream",
     "text": [
      "Counter({'i': 5, 's': 3, 'l': 2, 'm': 2, 'e': 2, 'b': 1, ' ': 1, 't': 1, 'r': 1})\n"
     ]
    }
   ],
   "source": [
    "#harf sayılarnın toplamı\n",
    "from collections import Counter\n",
    "print(Counter('bilisim sistemleri'))"
   ]
  },
  {
   "cell_type": "code",
   "execution_count": 25,
   "metadata": {},
   "outputs": [
    {
     "name": "stdout",
     "output_type": "stream",
     "text": [
      "3.8.3 (default, Jul  2 2020, 17:30:36) [MSC v.1916 64 bit (AMD64)]\n"
     ]
    }
   ],
   "source": [
    "import sys\n",
    "print(sys.version)"
   ]
  },
  {
   "cell_type": "code",
   "execution_count": 27,
   "metadata": {},
   "outputs": [
    {
     "name": "stdout",
     "output_type": "stream",
     "text": [
      "1013\n"
     ]
    }
   ],
   "source": [
    "import sys #Jupyter Notebook\n",
    "print(sys.api_version)"
   ]
  },
  {
   "cell_type": "code",
   "execution_count": 28,
   "metadata": {},
   "outputs": [],
   "source": [
    "  import pandas as pd \n"
   ]
  },
  {
   "cell_type": "code",
   "execution_count": 30,
   "metadata": {},
   "outputs": [],
   "source": [
    "d=pd.read_csv('Desktop/weather.csv')"
   ]
  },
  {
   "cell_type": "code",
   "execution_count": 33,
   "metadata": {},
   "outputs": [
    {
     "data": {
      "text/html": [
       "<div>\n",
       "<style scoped>\n",
       "    .dataframe tbody tr th:only-of-type {\n",
       "        vertical-align: middle;\n",
       "    }\n",
       "\n",
       "    .dataframe tbody tr th {\n",
       "        vertical-align: top;\n",
       "    }\n",
       "\n",
       "    .dataframe thead th {\n",
       "        text-align: right;\n",
       "    }\n",
       "</style>\n",
       "<table border=\"1\" class=\"dataframe\">\n",
       "  <thead>\n",
       "    <tr style=\"text-align: right;\">\n",
       "      <th></th>\n",
       "      <th>outlook</th>\n",
       "      <th>temperature</th>\n",
       "      <th>humidity</th>\n",
       "      <th>windy</th>\n",
       "      <th>play</th>\n",
       "    </tr>\n",
       "  </thead>\n",
       "  <tbody>\n",
       "    <tr>\n",
       "      <th>0</th>\n",
       "      <td>overcast</td>\n",
       "      <td>hot</td>\n",
       "      <td>high</td>\n",
       "      <td>False</td>\n",
       "      <td>yes</td>\n",
       "    </tr>\n",
       "    <tr>\n",
       "      <th>1</th>\n",
       "      <td>overcast</td>\n",
       "      <td>cool</td>\n",
       "      <td>normal</td>\n",
       "      <td>True</td>\n",
       "      <td>yes</td>\n",
       "    </tr>\n",
       "    <tr>\n",
       "      <th>2</th>\n",
       "      <td>overcast</td>\n",
       "      <td>mild</td>\n",
       "      <td>high</td>\n",
       "      <td>True</td>\n",
       "      <td>yes</td>\n",
       "    </tr>\n",
       "    <tr>\n",
       "      <th>3</th>\n",
       "      <td>overcast</td>\n",
       "      <td>hot</td>\n",
       "      <td>normal</td>\n",
       "      <td>False</td>\n",
       "      <td>yes</td>\n",
       "    </tr>\n",
       "    <tr>\n",
       "      <th>4</th>\n",
       "      <td>rainy</td>\n",
       "      <td>mild</td>\n",
       "      <td>high</td>\n",
       "      <td>False</td>\n",
       "      <td>yes</td>\n",
       "    </tr>\n",
       "  </tbody>\n",
       "</table>\n",
       "</div>"
      ],
      "text/plain": [
       "    outlook temperature humidity  windy play\n",
       "0  overcast         hot     high  False  yes\n",
       "1  overcast        cool   normal   True  yes\n",
       "2  overcast        mild     high   True  yes\n",
       "3  overcast         hot   normal  False  yes\n",
       "4     rainy        mild     high  False  yes"
      ]
     },
     "execution_count": 33,
     "metadata": {},
     "output_type": "execute_result"
    }
   ],
   "source": [
    "d.head(5) #ilk 5 satırı okuma"
   ]
  },
  {
   "cell_type": "code",
   "execution_count": 34,
   "metadata": {},
   "outputs": [
    {
     "name": "stdout",
     "output_type": "stream",
     "text": [
      "     outlook temperature humidity  windy play\n",
      "0   overcast         hot     high  False  yes\n",
      "1   overcast        cool   normal   True  yes\n",
      "2   overcast        mild     high   True  yes\n",
      "3   overcast         hot   normal  False  yes\n",
      "4      rainy        mild     high  False  yes\n",
      "5      rainy        cool   normal  False  yes\n",
      "6      rainy        cool   normal   True   no\n",
      "7      rainy        mild   normal  False  yes\n",
      "8      rainy        mild     high   True   no\n",
      "9      sunny         hot     high  False   no\n",
      "10     sunny         hot     high   True   no\n",
      "11     sunny        mild     high  False   no\n",
      "12     sunny        cool   normal  False  yes\n",
      "13     sunny        mild   normal   True  yes\n"
     ]
    }
   ],
   "source": [
    "print(d)"
   ]
  },
  {
   "cell_type": "code",
   "execution_count": 37,
   "metadata": {},
   "outputs": [
    {
     "data": {
      "text/html": [
       "<div>\n",
       "<style scoped>\n",
       "    .dataframe tbody tr th:only-of-type {\n",
       "        vertical-align: middle;\n",
       "    }\n",
       "\n",
       "    .dataframe tbody tr th {\n",
       "        vertical-align: top;\n",
       "    }\n",
       "\n",
       "    .dataframe thead th {\n",
       "        text-align: right;\n",
       "    }\n",
       "</style>\n",
       "<table border=\"1\" class=\"dataframe\">\n",
       "  <thead>\n",
       "    <tr style=\"text-align: right;\">\n",
       "      <th></th>\n",
       "      <th>outlook</th>\n",
       "      <th>temperature</th>\n",
       "      <th>humidity</th>\n",
       "      <th>windy</th>\n",
       "      <th>play</th>\n",
       "    </tr>\n",
       "  </thead>\n",
       "  <tbody>\n",
       "    <tr>\n",
       "      <th>13</th>\n",
       "      <td>sunny</td>\n",
       "      <td>mild</td>\n",
       "      <td>normal</td>\n",
       "      <td>True</td>\n",
       "      <td>yes</td>\n",
       "    </tr>\n",
       "  </tbody>\n",
       "</table>\n",
       "</div>"
      ],
      "text/plain": [
       "   outlook temperature humidity  windy play\n",
       "13   sunny        mild   normal   True  yes"
      ]
     },
     "execution_count": 37,
     "metadata": {},
     "output_type": "execute_result"
    }
   ],
   "source": [
    "d.tail(1) #sondan kaç tane gösterilmesini istiyorsak, parantez\n",
    "#içine yazabiliriz."
   ]
  },
  {
   "cell_type": "code",
   "execution_count": 38,
   "metadata": {},
   "outputs": [
    {
     "data": {
      "text/plain": [
       "Index(['outlook', 'temperature', 'humidity', 'windy', 'play'], dtype='object')"
      ]
     },
     "execution_count": 38,
     "metadata": {},
     "output_type": "execute_result"
    }
   ],
   "source": [
    "d.columns"
   ]
  },
  {
   "cell_type": "code",
   "execution_count": 41,
   "metadata": {},
   "outputs": [
    {
     "data": {
      "text/plain": [
       "[RangeIndex(start=0, stop=14, step=1),\n",
       " Index(['outlook', 'temperature', 'humidity', 'windy', 'play'], dtype='object')]"
      ]
     },
     "execution_count": 41,
     "metadata": {},
     "output_type": "execute_result"
    }
   ],
   "source": [
    "d.axes #satır"
   ]
  },
  {
   "cell_type": "code",
   "execution_count": 49,
   "metadata": {},
   "outputs": [
    {
     "ename": "IndentationError",
     "evalue": "expected an indented block (<ipython-input-49-aa70d3b3b4dc>, line 2)",
     "output_type": "error",
     "traceback": [
      "\u001b[1;36m  File \u001b[1;32m\"<ipython-input-49-aa70d3b3b4dc>\"\u001b[1;36m, line \u001b[1;32m2\u001b[0m\n\u001b[1;33m    print(\"Sakarya Üniversitesi\")\u001b[0m\n\u001b[1;37m    ^\u001b[0m\n\u001b[1;31mIndentationError\u001b[0m\u001b[1;31m:\u001b[0m expected an indented block\n"
     ]
    }
   ],
   "source": [
    "def ekran_goruntu():\n",
    "print(\"Sakarya Üniversitesi\")\n",
    "print(\"Bilgisayar ve Bilişim Bilimleri Fakültesi\")\n",
    "print(\"Sakarya\")"
   ]
  },
  {
   "cell_type": "code",
   "execution_count": 48,
   "metadata": {},
   "outputs": [
    {
     "ename": "NameError",
     "evalue": "name 'ekran_goruntu' is not defined",
     "output_type": "error",
     "traceback": [
      "\u001b[1;31m---------------------------------------------------------------------------\u001b[0m",
      "\u001b[1;31mNameError\u001b[0m                                 Traceback (most recent call last)",
      "\u001b[1;32m<ipython-input-48-5a2e4a7f92f6>\u001b[0m in \u001b[0;36m<module>\u001b[1;34m\u001b[0m\n\u001b[1;32m----> 1\u001b[1;33m \u001b[0mekran_goruntu\u001b[0m\u001b[1;33m(\u001b[0m\u001b[1;33m)\u001b[0m\u001b[1;31m#function call\u001b[0m\u001b[1;33m\u001b[0m\u001b[1;33m\u001b[0m\u001b[0m\n\u001b[0m",
      "\u001b[1;31mNameError\u001b[0m: name 'ekran_goruntu' is not defined"
     ]
    }
   ],
   "source": [
    "ekran_goruntu()#function call"
   ]
  },
  {
   "cell_type": "code",
   "execution_count": 50,
   "metadata": {},
   "outputs": [
    {
     "ename": "SyntaxError",
     "evalue": "unexpected EOF while parsing (<ipython-input-50-898a9e9d4804>, line 1)",
     "output_type": "error",
     "traceback": [
      "\u001b[1;36m  File \u001b[1;32m\"<ipython-input-50-898a9e9d4804>\"\u001b[1;36m, line \u001b[1;32m1\u001b[0m\n\u001b[1;33m    def ekran_goruntu():\u001b[0m\n\u001b[1;37m                        ^\u001b[0m\n\u001b[1;31mSyntaxError\u001b[0m\u001b[1;31m:\u001b[0m unexpected EOF while parsing\n"
     ]
    }
   ],
   "source": [
    "def ekran_goruntu():"
   ]
  },
  {
   "cell_type": "code",
   "execution_count": 51,
   "metadata": {},
   "outputs": [],
   "source": [
    "def ekran_goruntu():\n",
    "    print ('Sakarya Üniversitesi')\n",
    "    print (\"Bilgisayar ve Bilişim Bilimleri Fakültesi\")\n",
    "    print (\"Sakarya\")    "
   ]
  },
  {
   "cell_type": "code",
   "execution_count": 52,
   "metadata": {},
   "outputs": [
    {
     "name": "stdout",
     "output_type": "stream",
     "text": [
      "Sakarya Üniversitesi\n",
      "Bilgisayar ve Bilişim Bilimleri Fakültesi\n",
      "Sakarya\n",
      "Sakarya Üniversitesi\n",
      "Bilgisayar ve Bilişim Bilimleri Fakültesi\n",
      "Sakarya\n"
     ]
    }
   ],
   "source": [
    "ekran_goruntu() #function call\n",
    "ekran_goruntu() #function call"
   ]
  },
  {
   "cell_type": "code",
   "execution_count": 53,
   "metadata": {},
   "outputs": [],
   "source": [
    "def ekran_goruntu():\n",
    "    print (\"sakarya üniversitesi\")\n",
    "    print (\"bilişim sistemleri\")"
   ]
  },
  {
   "cell_type": "code",
   "execution_count": 54,
   "metadata": {},
   "outputs": [
    {
     "name": "stdout",
     "output_type": "stream",
     "text": [
      "sakarya\n",
      "sakarya üniversitesi\n",
      "bilişim sistemleri\n",
      "sakarya üniversitesi\n",
      "bilişim sistemleri\n"
     ]
    }
   ],
   "source": [
    "print (\"sakarya\") \n",
    "ekran_goruntu() #function call\n",
    "ekran_goruntu()"
   ]
  },
  {
   "cell_type": "code",
   "execution_count": 55,
   "metadata": {},
   "outputs": [],
   "source": [
    "def ekran_goruntusu():\n",
    "    print(\"sakarya üniversitesi\")\n",
    "    print(\"bilişim sistemleri\")"
   ]
  },
  {
   "cell_type": "code",
   "execution_count": 57,
   "metadata": {},
   "outputs": [
    {
     "name": "stdout",
     "output_type": "stream",
     "text": [
      "sakarya\n",
      "sakarya üniversitesi\n",
      "bilişim sistemleri\n",
      "sakarya üniversitesi\n",
      "bilişim sistemleri\n",
      "sakarya\n"
     ]
    }
   ],
   "source": [
    "print(\"sakarya\")\n",
    "ekran_goruntu()\n",
    "ekran_goruntu()\n",
    "print(\"sakarya\")"
   ]
  },
  {
   "cell_type": "code",
   "execution_count": 58,
   "metadata": {},
   "outputs": [],
   "source": [
    "def ekran_goruntu():\n",
    "    print(\"sakarya üniversitesi\")\n",
    "    print(\"bilişim sistemleri\")\n",
    "    print(\"sakarya\")\n",
    "    print    "
   ]
  },
  {
   "cell_type": "code",
   "execution_count": 59,
   "metadata": {},
   "outputs": [],
   "source": [
    "def main():\n",
    "    ekran_goruntu()\n",
    "    ekran_goruntu()"
   ]
  },
  {
   "cell_type": "code",
   "execution_count": 60,
   "metadata": {},
   "outputs": [
    {
     "name": "stdout",
     "output_type": "stream",
     "text": [
      "sakarya üniversitesi\n",
      "bilişim sistemleri\n",
      "sakarya\n",
      "sakarya üniversitesi\n",
      "bilişim sistemleri\n",
      "sakarya\n"
     ]
    }
   ],
   "source": [
    "main()"
   ]
  },
  {
   "cell_type": "code",
   "execution_count": 61,
   "metadata": {},
   "outputs": [],
   "source": [
    "def toplamaIslemi(x,y):\n",
    "    toplam = x+y\n",
    "    ekran = '{} ve {} sayılarının toplamı : {}.'.format(x,y,toplam)\n",
    "    print(ekran)"
   ]
  },
  {
   "cell_type": "code",
   "execution_count": 62,
   "metadata": {},
   "outputs": [],
   "source": [
    "def main():\n",
    "    toplamaIslemi(10,20) #parametre gönderilir\n",
    "    toplamaIslemi(10000,20000) #parametre gönderilir\n",
    "    a = int(input(\"bir sayı giriniz:\"))\n",
    "    b = int(input(\"yeni bir sayı giriniz:\"))\n",
    "    toplamaIslemi(a,b) #parametre gönderilmesi"
   ]
  },
  {
   "cell_type": "code",
   "execution_count": 63,
   "metadata": {},
   "outputs": [
    {
     "name": "stdout",
     "output_type": "stream",
     "text": [
      "10 ve 20 sayılarının toplamı : 30.\n",
      "10000 ve 20000 sayılarının toplamı : 30000.\n",
      "bir sayı giriniz:15\n",
      "yeni bir sayı giriniz:25\n",
      "15 ve 25 sayılarının toplamı : 40.\n"
     ]
    }
   ],
   "source": [
    "main()"
   ]
  },
  {
   "cell_type": "code",
   "execution_count": 64,
   "metadata": {},
   "outputs": [
    {
     "name": "stdout",
     "output_type": "stream",
     "text": [
      "\n",
      "Sistemde kurulu Python'ın;\n",
      "\tana sürüm numarası: 3\n",
      "\talt sürüm numarası: 8\n",
      "\tminik sürüm numarası: 3\n",
      "\n",
      "Kullanılan işletim sisteminin;\n",
      "\tadı: win32\n"
     ]
    }
   ],
   "source": [
    "    import sys\n",
    "    print(\"\\nSistemde kurulu Python'ın;\")\n",
    "    print(\"\\tana sürüm numarası:\", sys.version_info.major)\n",
    "    print(\"\\talt sürüm numarası:\", sys.version_info.minor)\n",
    "    print(\"\\tminik sürüm numarası:\", sys.version_info.micro)\n",
    "\n",
    "    print(\"\\nKullanılan işletim sisteminin;\")\n",
    "    print(\"\\tadı:\", sys.platform)"
   ]
  },
  {
   "cell_type": "code",
   "execution_count": 65,
   "metadata": {},
   "outputs": [],
   "source": [
    "def carpmaIslemi():\n",
    "    sayi1 = 25\n",
    "    sayi2 = 10\n",
    "    carpim = sayi1*sayi2\n",
    "    print ('sayıların çarpımı: ', carpim )    "
   ]
  },
  {
   "cell_type": "code",
   "execution_count": 66,
   "metadata": {},
   "outputs": [
    {
     "name": "stdout",
     "output_type": "stream",
     "text": [
      "sayıların çarpımı:  250\n"
     ]
    }
   ],
   "source": [
    "carpmaIslemi()"
   ]
  },
  {
   "cell_type": "code",
   "execution_count": 67,
   "metadata": {},
   "outputs": [],
   "source": [
    "def carpmaIslemi():\n",
    "    sayi1 = 100\n",
    "    sayi2 = 200\n",
    "    carpim = sayi1*sayi2\n",
    "    print (carpim)"
   ]
  },
  {
   "cell_type": "code",
   "execution_count": 69,
   "metadata": {},
   "outputs": [
    {
     "name": "stdout",
     "output_type": "stream",
     "text": [
      "20000\n"
     ]
    }
   ],
   "source": [
    "carpmaIslemi()"
   ]
  },
  {
   "cell_type": "code",
   "execution_count": 70,
   "metadata": {},
   "outputs": [],
   "source": [
    "def ekranCikti():\n",
    "   print (\"Bilişim Sistemleri Mühendisliği Bölümü  \")"
   ]
  },
  {
   "cell_type": "code",
   "execution_count": 71,
   "metadata": {},
   "outputs": [
    {
     "name": "stdout",
     "output_type": "stream",
     "text": [
      "Bilişim Sistemleri Mühendisliği Bölümü  \n"
     ]
    }
   ],
   "source": [
    "ekranCikti()"
   ]
  }
 ],
 "metadata": {
  "kernelspec": {
   "display_name": "Python 3",
   "language": "python",
   "name": "python3"
  },
  "language_info": {
   "codemirror_mode": {
    "name": "ipython",
    "version": 3
   },
   "file_extension": ".py",
   "mimetype": "text/x-python",
   "name": "python",
   "nbconvert_exporter": "python",
   "pygments_lexer": "ipython3",
   "version": "3.8.3"
  }
 },
 "nbformat": 4,
 "nbformat_minor": 4
}
